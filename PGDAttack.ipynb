{
 "cells": [
  {
   "cell_type": "code",
   "execution_count": null,
   "id": "0e0430c4",
   "metadata": {},
   "outputs": [],
   "source": [
    "import torch\n",
    "import torch.nn as nn\n",
    "import torchvision.transforms as transforms\n",
    "from ultralytics import YOLO"
   ]
  },
  {
   "cell_type": "code",
   "execution_count": null,
   "id": "8605a2d3",
   "metadata": {},
   "outputs": [],
   "source": [
    "dataset_yolo = 'Peaple_Detection'\n",
    "epoch_number = 200\n",
    "weights_path = 'YoloV8/yolov8n.pt'\n",
    "data_yaml_path = f'{dataset_yolo}/data.yaml'\n",
    "saved_path = f'{dataset_yolo}/trained_model'\n",
    "results_folder_name = f\"{dataset_yolo}_normal\"\n",
    "\n",
    "model = YOLO(weights_path)\n",
    "model.train(\n",
    "    data=data_yaml_path,\n",
    "    epochs=epoch_number,\n",
    "    batch=32,\n",
    "    device='cuda',\n",
    "    project=saved_path,\n",
    "    name=results_folder_name,\n",
    "    patience=epoch_number,\n",
    "    pretrained=True,\n",
    "    lr0=0.001,\n",
    "    lrf=0.001,\n",
    "    dropout=0.2\n",
    ")"
   ]
  },
  {
   "cell_type": "code",
   "execution_count": null,
   "id": "90d69dce",
   "metadata": {},
   "outputs": [],
   "source": [
    "model_path = f\"{results_folder_name}/weights/best.pt\"\n",
    "model = YOLO(model_path)\n",
    "model.eval()\n",
    "\n",
    "# transform = transforms.Compose([\n",
    "#     transforms.Resize((img_size, img_size)),\n",
    "#     transforms.ToTensor(),\n",
    "# ])"
   ]
  },
  {
   "cell_type": "code",
   "execution_count": null,
   "id": "f9cbc38e",
   "metadata": {},
   "outputs": [],
   "source": [
    "class CustomLoss(nn.Module):\n",
    "    def __init__(self, alpha=0.8, beta=0.5, gamma=0.7):\n",
    "        super(CustomLoss, self).__init__()\n",
    "        self.alpha = alpha\n",
    "        self.beta = beta\n",
    "        self.gamma = gamma\n",
    "        self.epsilon = 1e-6\n",
    "\n",
    "    def forward(self, outputs, targets):\n",
    "        cls_prob = outputs['cls_prob']  # [batch_size, num_anchors, num_classes]\n",
    "        conf = outputs['conf']          # [batch_size, num_anchors]\n",
    "\n",
    "        person_class_index = targets['person_class_index']\n",
    "\n",
    "        person_cls_prob = cls_prob[:, :, person_class_index]  # [batch_size, num_anchors]\n",
    "\n",
    "        person_mask = targets['person_mask'].float()  # [batch_size, num_anchors]\n",
    "        background_mask = 1.0 - person_mask       \n",
    "\n",
    "        L_bg = -torch.sum(\n",
    "            (torch.log(person_cls_prob + self.epsilon) + torch.log(conf + self.epsilon)) * background_mask\n",
    "        ) / (torch.sum(background_mask) + self.epsilon)\n",
    "\n",
    "        L_person = torch.sum(\n",
    "            (torch.log(1.0 - person_cls_prob + self.epsilon) + torch.log(1.0 - conf + self.epsilon)) * person_mask\n",
    "        ) / (torch.sum(person_mask) + self.epsilon)\n",
    "\n",
    "        L_bbox = -torch.mean(torch.log(conf + self.epsilon))\n",
    "        loss = self.alpha * L_bg + self.beta * L_person + self.gamma * L_bbox\n",
    "\n",
    "        return loss"
   ]
  },
  {
   "cell_type": "code",
   "execution_count": null,
   "id": "78daf0fe",
   "metadata": {},
   "outputs": [],
   "source": [
    "def pgd_attack(model, images, targets, epsilon, alpha, num_iter):\n",
    "    images_adv = images.clone().detach().requires_grad_(True)\n",
    "    loss_fn = CustomLoss()\n",
    "\n",
    "    for i in range(num_iter):\n",
    "        outputs = model(images_adv)\n",
    "        loss = loss_fn(outputs, targets)\n",
    "        loss.backward()\n",
    "\n",
    "        grad_sign = images_adv.grad.sign()\n",
    "        images_adv = images_adv + alpha * grad_sign\n",
    "\n",
    "        eta = torch.clamp(images_adv - images, min=-epsilon, max=epsilon)\n",
    "        images_adv = torch.clamp(images + eta, min=0, max=1).detach().requires_grad_(True)\n",
    "\n",
    "    return images_adv"
   ]
  },
  {
   "cell_type": "code",
   "execution_count": null,
   "id": "8d71ebed",
   "metadata": {},
   "outputs": [],
   "source": []
  }
 ],
 "metadata": {
  "kernelspec": {
   "display_name": "Python 3 (ipykernel)",
   "language": "python",
   "name": "python3"
  },
  "language_info": {
   "codemirror_mode": {
    "name": "ipython",
    "version": 3
   },
   "file_extension": ".py",
   "mimetype": "text/x-python",
   "name": "python",
   "nbconvert_exporter": "python",
   "pygments_lexer": "ipython3",
   "version": "3.9.18"
  }
 },
 "nbformat": 4,
 "nbformat_minor": 5
}
